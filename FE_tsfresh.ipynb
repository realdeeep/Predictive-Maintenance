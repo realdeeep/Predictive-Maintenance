{
 "cells": [
  {
   "cell_type": "code",
   "execution_count": 4,
   "id": "initial_id",
   "metadata": {
    "collapsed": true,
    "ExecuteTime": {
     "end_time": "2023-12-12T17:22:47.488132200Z",
     "start_time": "2023-12-12T17:22:47.441254500Z"
    }
   },
   "outputs": [],
   "source": [
    "from tsfresh import extract_features\n",
    "from tsfresh.feature_extraction import MinimalFCParameters\n",
    "from tsfresh.utilities.dataframe_functions import roll_time_series\n",
    "from tsfresh.utilities.distribution import ClusterDaskDistributor\n",
    "import pandas as pd\n",
    "from scipy.io import loadmat\n",
    "import numpy as np\n",
    "import os\n",
    "os.environ['OMP_NUM_THREADS'] = \"1\"\n",
    "os.environ['MKL_NUM_THREADS'] = \"1\"\n",
    "os.environ['OPENBLAS_NUM_THREADS'] = \"1\""
   ]
  },
  {
   "cell_type": "code",
   "execution_count": 57,
   "outputs": [],
   "source": [
    "B07 = loadmat('historic-12k-Drive-End-Bearing-Fault-Data/load-hp-3-rpm-1730/historic_B007_3.mat')\n",
    "normal = loadmat('normal-baseline-data/load-hp-0-rpm-1797/97.mat')"
   ],
   "metadata": {
    "collapsed": false,
    "ExecuteTime": {
     "end_time": "2023-12-13T15:59:47.608945600Z",
     "start_time": "2023-12-13T15:59:47.524990900Z"
    }
   },
   "id": "3fe32175ba19c09f"
  },
  {
   "cell_type": "code",
   "execution_count": 62,
   "outputs": [
    {
     "data": {
      "text/plain": "28"
     },
     "execution_count": 62,
     "metadata": {},
     "output_type": "execute_result"
    }
   ],
   "source": [
    "# de_some = list(B07.values())[3]\n",
    "# de_some\n",
    "de_some2 = list(normal.values())[3]\n",
    "x = int(len(de_some2)/1000)\n",
    "1000%x"
   ],
   "metadata": {
    "collapsed": false,
    "ExecuteTime": {
     "end_time": "2023-12-13T16:20:08.995878900Z",
     "start_time": "2023-12-13T16:20:08.980250100Z"
    }
   },
   "id": "49c88ec4e22035e5"
  },
  {
   "cell_type": "code",
   "execution_count": 9,
   "outputs": [],
   "source": [
    "de_B07 = np.array(B07['X121_DE_time'])\n",
    "#de_IR7 = np.array(IR7['X108_DE_time'])"
   ],
   "metadata": {
    "collapsed": false,
    "ExecuteTime": {
     "end_time": "2023-12-12T17:24:39.558261700Z",
     "start_time": "2023-12-12T17:24:39.533612400Z"
    }
   },
   "id": "31700ddbfae95d70"
  },
  {
   "cell_type": "code",
   "execution_count": 44,
   "outputs": [],
   "source": [
    "a=1\n",
    "alist = []\n",
    "for i in range(1000):\n",
    "    for j in range(100):\n",
    "        alist.append(i+1)\n",
    "    a += 1\n",
    "my_arr = np.array(alist, dtype=int)"
   ],
   "metadata": {
    "collapsed": false,
    "ExecuteTime": {
     "end_time": "2023-12-13T15:46:12.488050Z",
     "start_time": "2023-12-13T15:46:12.299020100Z"
    }
   },
   "id": "b9ff2fe0de3b85a5"
  },
  {
   "cell_type": "code",
   "execution_count": 11,
   "outputs": [],
   "source": [
    "df1 = pd.DataFrame({'sensor_data': de_B07.flatten()})\n",
    "df1['id'], df1['time'], df1['y'] = [my_arr, df1.index, True]\n",
    "# df2 = pd.DataFrame({'sensor_data': de_IR7.flatten()})\n",
    "# df2['id'], df2['time'], df2['y'] = [my_arr, df2.index, False]\n",
    "# my_df = df1._append(df2)\n",
    "# my_df['time'] = np.arange(1, len(my_df) + 1)"
   ],
   "metadata": {
    "collapsed": false,
    "ExecuteTime": {
     "end_time": "2023-12-12T17:24:50.899850200Z",
     "start_time": "2023-12-12T17:24:50.821729500Z"
    }
   },
   "id": "44ed9977fa833798"
  },
  {
   "cell_type": "code",
   "execution_count": 16,
   "outputs": [
    {
     "name": "stderr",
     "output_type": "stream",
     "text": [
      "Rolling: 100%|██████████| 20/20 [00:30<00:00,  1.51s/it]\n"
     ]
    }
   ],
   "source": [
    "df_rolled = roll_time_series(df1, column_id='id', min_timeshift=10, max_timeshift=80)"
   ],
   "metadata": {
    "collapsed": false,
    "ExecuteTime": {
     "end_time": "2023-12-12T17:28:16.369934200Z",
     "start_time": "2023-12-12T17:27:42.387196300Z"
    }
   },
   "id": "c428e5a395bfd1c5"
  },
  {
   "cell_type": "code",
   "execution_count": 40,
   "outputs": [
    {
     "data": {
      "text/plain": "         sensor_data          id   time     y   sort\n0           0.090314     (1, 10)      0  True      0\n1           0.224973     (1, 10)      1  True      1\n2          -0.108832     (1, 10)      2  True      2\n3          -0.185338     (1, 10)      3  True      3\n4           0.047918     (1, 10)      4  True      4\n...              ...         ...    ...   ...    ...\n4804995    -0.129786  (1000, 99)  99995  True  99995\n4804996     0.156425  (1000, 99)  99996  True  99996\n4804997     0.152527  (1000, 99)  99997  True  99997\n4804998    -0.183227  (1000, 99)  99998  True  99998\n4804999    -0.143755  (1000, 99)  99999  True  99999\n\n[4805000 rows x 5 columns]",
      "text/html": "<div>\n<style scoped>\n    .dataframe tbody tr th:only-of-type {\n        vertical-align: middle;\n    }\n\n    .dataframe tbody tr th {\n        vertical-align: top;\n    }\n\n    .dataframe thead th {\n        text-align: right;\n    }\n</style>\n<table border=\"1\" class=\"dataframe\">\n  <thead>\n    <tr style=\"text-align: right;\">\n      <th></th>\n      <th>sensor_data</th>\n      <th>id</th>\n      <th>time</th>\n      <th>y</th>\n      <th>sort</th>\n    </tr>\n  </thead>\n  <tbody>\n    <tr>\n      <th>0</th>\n      <td>0.090314</td>\n      <td>(1, 10)</td>\n      <td>0</td>\n      <td>True</td>\n      <td>0</td>\n    </tr>\n    <tr>\n      <th>1</th>\n      <td>0.224973</td>\n      <td>(1, 10)</td>\n      <td>1</td>\n      <td>True</td>\n      <td>1</td>\n    </tr>\n    <tr>\n      <th>2</th>\n      <td>-0.108832</td>\n      <td>(1, 10)</td>\n      <td>2</td>\n      <td>True</td>\n      <td>2</td>\n    </tr>\n    <tr>\n      <th>3</th>\n      <td>-0.185338</td>\n      <td>(1, 10)</td>\n      <td>3</td>\n      <td>True</td>\n      <td>3</td>\n    </tr>\n    <tr>\n      <th>4</th>\n      <td>0.047918</td>\n      <td>(1, 10)</td>\n      <td>4</td>\n      <td>True</td>\n      <td>4</td>\n    </tr>\n    <tr>\n      <th>...</th>\n      <td>...</td>\n      <td>...</td>\n      <td>...</td>\n      <td>...</td>\n      <td>...</td>\n    </tr>\n    <tr>\n      <th>4804995</th>\n      <td>-0.129786</td>\n      <td>(1000, 99)</td>\n      <td>99995</td>\n      <td>True</td>\n      <td>99995</td>\n    </tr>\n    <tr>\n      <th>4804996</th>\n      <td>0.156425</td>\n      <td>(1000, 99)</td>\n      <td>99996</td>\n      <td>True</td>\n      <td>99996</td>\n    </tr>\n    <tr>\n      <th>4804997</th>\n      <td>0.152527</td>\n      <td>(1000, 99)</td>\n      <td>99997</td>\n      <td>True</td>\n      <td>99997</td>\n    </tr>\n    <tr>\n      <th>4804998</th>\n      <td>-0.183227</td>\n      <td>(1000, 99)</td>\n      <td>99998</td>\n      <td>True</td>\n      <td>99998</td>\n    </tr>\n    <tr>\n      <th>4804999</th>\n      <td>-0.143755</td>\n      <td>(1000, 99)</td>\n      <td>99999</td>\n      <td>True</td>\n      <td>99999</td>\n    </tr>\n  </tbody>\n</table>\n<p>4805000 rows × 5 columns</p>\n</div>"
     },
     "execution_count": 40,
     "metadata": {},
     "output_type": "execute_result"
    }
   ],
   "source": [
    "df_rolled"
   ],
   "metadata": {
    "collapsed": false,
    "ExecuteTime": {
     "end_time": "2023-12-12T17:56:53.751072700Z",
     "start_time": "2023-12-12T17:56:53.704152900Z"
    }
   },
   "id": "259402df97fa7a7d"
  },
  {
   "cell_type": "code",
   "execution_count": 17,
   "outputs": [
    {
     "name": "stderr",
     "output_type": "stream",
     "text": [
      "Feature Extraction: 100%|██████████| 20/20 [00:51<00:00,  2.58s/it]\n"
     ]
    }
   ],
   "source": [
    "feat = extract_features(df_rolled, column_id='id', column_sort='sort', column_value='sensor_data', default_fc_parameters=MinimalFCParameters())"
   ],
   "metadata": {
    "collapsed": false,
    "ExecuteTime": {
     "end_time": "2023-12-12T17:29:13.317638Z",
     "start_time": "2023-12-12T17:28:18.717785Z"
    }
   },
   "id": "733b847b0470aa71"
  },
  {
   "cell_type": "code",
   "execution_count": 18,
   "outputs": [
    {
     "data": {
      "text/plain": "         sensor_data__sum_values  sensor_data__median  sensor_data__mean  \\\n1    10                 0.135146             0.022254           0.012286   \n     11                 0.222211             0.031269           0.018518   \n     12                 0.245602             0.023391           0.018892   \n     13                 0.056040             0.022822           0.004003   \n     14                -0.008771             0.022254          -0.000585   \n...                          ...                  ...                ...   \n1000 95                 0.544483             0.020142           0.006722   \n     96                 0.420545             0.020142           0.005192   \n     97                 0.358657             0.020142           0.004428   \n     98                 0.280038             0.020142           0.003457   \n     99                 0.162273             0.020142           0.002003   \n\n         sensor_data__length  sensor_data__standard_deviation  \\\n1    10                 11.0                         0.105679   \n     11                 12.0                         0.103270   \n     12                 13.0                         0.099227   \n     13                 14.0                         0.109657   \n     14                 15.0                         0.107321   \n...                      ...                              ...   \n1000 95                 81.0                         0.132993   \n     96                 81.0                         0.130526   \n     97                 81.0                         0.129476   \n     98                 81.0                         0.130580   \n     99                 81.0                         0.131552   \n\n         sensor_data__variance  sensor_data__root_mean_square  \\\n1    10               0.011168                       0.106391   \n     11               0.010665                       0.104917   \n     12               0.009846                       0.101009   \n     13               0.012025                       0.109731   \n     14               0.011518                       0.107322   \n...                        ...                            ...   \n1000 95               0.017687                       0.133163   \n     96               0.017037                       0.130629   \n     97               0.016764                       0.129552   \n     98               0.017051                       0.130626   \n     99               0.017306                       0.131567   \n\n         sensor_data__maximum  sensor_data__absolute_maximum  \\\n1    10              0.224973                       0.224973   \n     11              0.224973                       0.224973   \n     12              0.224973                       0.224973   \n     13              0.224973                       0.224973   \n     14              0.224973                       0.224973   \n...                       ...                            ...   \n1000 95              0.307002                       0.311875   \n     96              0.307002                       0.311875   \n     97              0.307002                       0.311875   \n     98              0.307002                       0.311875   \n     99              0.307002                       0.311875   \n\n         sensor_data__minimum  \n1    10             -0.185338  \n     11             -0.185338  \n     12             -0.185338  \n     13             -0.189562  \n     14             -0.189562  \n...                       ...  \n1000 95             -0.311875  \n     96             -0.311875  \n     97             -0.311875  \n     98             -0.311875  \n     99             -0.311875  \n\n[90000 rows x 10 columns]",
      "text/html": "<div>\n<style scoped>\n    .dataframe tbody tr th:only-of-type {\n        vertical-align: middle;\n    }\n\n    .dataframe tbody tr th {\n        vertical-align: top;\n    }\n\n    .dataframe thead th {\n        text-align: right;\n    }\n</style>\n<table border=\"1\" class=\"dataframe\">\n  <thead>\n    <tr style=\"text-align: right;\">\n      <th></th>\n      <th></th>\n      <th>sensor_data__sum_values</th>\n      <th>sensor_data__median</th>\n      <th>sensor_data__mean</th>\n      <th>sensor_data__length</th>\n      <th>sensor_data__standard_deviation</th>\n      <th>sensor_data__variance</th>\n      <th>sensor_data__root_mean_square</th>\n      <th>sensor_data__maximum</th>\n      <th>sensor_data__absolute_maximum</th>\n      <th>sensor_data__minimum</th>\n    </tr>\n  </thead>\n  <tbody>\n    <tr>\n      <th rowspan=\"5\" valign=\"top\">1</th>\n      <th>10</th>\n      <td>0.135146</td>\n      <td>0.022254</td>\n      <td>0.012286</td>\n      <td>11.0</td>\n      <td>0.105679</td>\n      <td>0.011168</td>\n      <td>0.106391</td>\n      <td>0.224973</td>\n      <td>0.224973</td>\n      <td>-0.185338</td>\n    </tr>\n    <tr>\n      <th>11</th>\n      <td>0.222211</td>\n      <td>0.031269</td>\n      <td>0.018518</td>\n      <td>12.0</td>\n      <td>0.103270</td>\n      <td>0.010665</td>\n      <td>0.104917</td>\n      <td>0.224973</td>\n      <td>0.224973</td>\n      <td>-0.185338</td>\n    </tr>\n    <tr>\n      <th>12</th>\n      <td>0.245602</td>\n      <td>0.023391</td>\n      <td>0.018892</td>\n      <td>13.0</td>\n      <td>0.099227</td>\n      <td>0.009846</td>\n      <td>0.101009</td>\n      <td>0.224973</td>\n      <td>0.224973</td>\n      <td>-0.185338</td>\n    </tr>\n    <tr>\n      <th>13</th>\n      <td>0.056040</td>\n      <td>0.022822</td>\n      <td>0.004003</td>\n      <td>14.0</td>\n      <td>0.109657</td>\n      <td>0.012025</td>\n      <td>0.109731</td>\n      <td>0.224973</td>\n      <td>0.224973</td>\n      <td>-0.189562</td>\n    </tr>\n    <tr>\n      <th>14</th>\n      <td>-0.008771</td>\n      <td>0.022254</td>\n      <td>-0.000585</td>\n      <td>15.0</td>\n      <td>0.107321</td>\n      <td>0.011518</td>\n      <td>0.107322</td>\n      <td>0.224973</td>\n      <td>0.224973</td>\n      <td>-0.189562</td>\n    </tr>\n    <tr>\n      <th>...</th>\n      <th>...</th>\n      <td>...</td>\n      <td>...</td>\n      <td>...</td>\n      <td>...</td>\n      <td>...</td>\n      <td>...</td>\n      <td>...</td>\n      <td>...</td>\n      <td>...</td>\n      <td>...</td>\n    </tr>\n    <tr>\n      <th rowspan=\"5\" valign=\"top\">1000</th>\n      <th>95</th>\n      <td>0.544483</td>\n      <td>0.020142</td>\n      <td>0.006722</td>\n      <td>81.0</td>\n      <td>0.132993</td>\n      <td>0.017687</td>\n      <td>0.133163</td>\n      <td>0.307002</td>\n      <td>0.311875</td>\n      <td>-0.311875</td>\n    </tr>\n    <tr>\n      <th>96</th>\n      <td>0.420545</td>\n      <td>0.020142</td>\n      <td>0.005192</td>\n      <td>81.0</td>\n      <td>0.130526</td>\n      <td>0.017037</td>\n      <td>0.130629</td>\n      <td>0.307002</td>\n      <td>0.311875</td>\n      <td>-0.311875</td>\n    </tr>\n    <tr>\n      <th>97</th>\n      <td>0.358657</td>\n      <td>0.020142</td>\n      <td>0.004428</td>\n      <td>81.0</td>\n      <td>0.129476</td>\n      <td>0.016764</td>\n      <td>0.129552</td>\n      <td>0.307002</td>\n      <td>0.311875</td>\n      <td>-0.311875</td>\n    </tr>\n    <tr>\n      <th>98</th>\n      <td>0.280038</td>\n      <td>0.020142</td>\n      <td>0.003457</td>\n      <td>81.0</td>\n      <td>0.130580</td>\n      <td>0.017051</td>\n      <td>0.130626</td>\n      <td>0.307002</td>\n      <td>0.311875</td>\n      <td>-0.311875</td>\n    </tr>\n    <tr>\n      <th>99</th>\n      <td>0.162273</td>\n      <td>0.020142</td>\n      <td>0.002003</td>\n      <td>81.0</td>\n      <td>0.131552</td>\n      <td>0.017306</td>\n      <td>0.131567</td>\n      <td>0.307002</td>\n      <td>0.311875</td>\n      <td>-0.311875</td>\n    </tr>\n  </tbody>\n</table>\n<p>90000 rows × 10 columns</p>\n</div>"
     },
     "execution_count": 18,
     "metadata": {},
     "output_type": "execute_result"
    }
   ],
   "source": [
    "feat"
   ],
   "metadata": {
    "collapsed": false,
    "ExecuteTime": {
     "end_time": "2023-12-12T17:29:16.340970800Z",
     "start_time": "2023-12-12T17:29:16.294092900Z"
    }
   },
   "id": "b35099552704ef3b"
  },
  {
   "cell_type": "code",
   "execution_count": null,
   "outputs": [],
   "source": [],
   "metadata": {
    "collapsed": false
   },
   "id": "24c4b9f6cd9d5698"
  }
 ],
 "metadata": {
  "kernelspec": {
   "display_name": "Python 3",
   "language": "python",
   "name": "python3"
  },
  "language_info": {
   "codemirror_mode": {
    "name": "ipython",
    "version": 2
   },
   "file_extension": ".py",
   "mimetype": "text/x-python",
   "name": "python",
   "nbconvert_exporter": "python",
   "pygments_lexer": "ipython2",
   "version": "2.7.6"
  }
 },
 "nbformat": 4,
 "nbformat_minor": 5
}
